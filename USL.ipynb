{
 "cells": [
  {
   "cell_type": "markdown",
   "id": "5bcab9c0",
   "metadata": {},
   "source": [
    "Online Shoppers Intention\n",
    "\n",
    "#### Problem Statement:\n",
    "\n",
    "Based on given data of visitors browsing for online shopping, build different clusters to know whether person is only browsing and visiting multiples pages or also generating revenue for the shoppers as well.  Analyse and compare the clusters formed with the existing Revenue Column.\n",
    "\n",
    "#### Data Set Information:\n",
    "\n",
    "The dataset consists of feature vectors belonging to 12,330 sessions. The dataset was formed so that each session would belong to a different user in a 1-year period to avoid any tendency to a specific campaign, special day, user profile, or period.\n",
    "\n",
    "##### Attribute Information:\n",
    "\n",
    "The dataset consists of 10 numerical and 8 categorical attributes.\n",
    "\n",
    "The 'Revenue' attribute can be used as the class label.\n",
    "\n",
    "\"Administrative\", \"Administrative Duration\", \"Informational\", \"Informational Duration\", \"Product Related\" and \"Product Related Duration\" represent the number of different types of pages visited by the visitor in that session and total time spent in each of these page categories. \n",
    "\n",
    "The values of these features are derived from the URL information of the pages visited by the user and updated in real time when a user takes an action, e.g. moving from one page to another. The \"Bounce Rate\", \"Exit Rate\" and \"Page Value\" features represent the metrics measured by \"Google Analytics\" for each page in the e-commerce site. The value of \"Bounce Rate\" feature for a web page refers to the percentage of visitors who enter the site from that page and then leave (\"bounce\") without triggering any other requests to the analytics server during that session. The value of \"Exit Rate\" feature for a specific web page is calculated as for all pageviews to the page, the percentage that were the last in the session. The \"Page Value\" feature represents the average value for a web page that a user visited before completing an e-commerce transaction. The \"Special Day\" feature indicates the closeness of the site visiting time to a specific special day (e.g. Mother’s Day, Valentine's Day) in which the sessions are more likely to be finalized with transaction. The value of this attribute is determined by considering the dynamics of e-commerce such as the duration between the order date and delivery date. \n",
    "\n",
    "Citation / Reference:\n",
    "\n",
    "Please use the below link to cite this dataset:\n",
    "\n",
    "Sakar, C.O., Polat, S.O., Katircioglu, M. et al. Neural Comput & Applic (2018).\n",
    "\n",
    "https://link.springer.com/article/10.1007/s00521-018-3523-0\n",
    "\n",
    "Dua, D. and Graff, C. (2019). UCI Machine Learning Repository [http://archive.ics.uci.edu/ml]. Irvine, CA: University of California, School of Information and Computer Science.\n",
    "\n",
    "### Expected Approach/Outcomes:\n",
    "\n",
    "Perform required cleaning to bring the uniformity in the data.\n",
    "\n",
    "***Carry-out uni-variate, Bi-variate and Multti-varaiate analysis to understand the data relationships.***\n",
    "\n",
    "***Perform required missing value treatment***\n",
    "\n",
    "***Perform Outlier treatment if required***\n",
    "\n",
    "***Perform appropriate scaling***\n",
    "\n",
    "***Perform required encoding techniques***\n",
    "\n",
    "***Build the different cluster models.***\n",
    "\n",
    "***Analyse the optimum number of cluster using appropriate techniques.***\n",
    "\n",
    "***Make the appropriate business interpretation using the cluster centroids.***\n",
    "\n",
    "***Perform the EDA on cluster groups to understand the cluster characteristics.***\n",
    "\n",
    "***Perform PCA and apply clustering on top of it. Comment whether PCA is really helping the clustering process. *** \n",
    "\n",
    "***Also try different graphs to visualize the clusters and its characteristics. ***\n"
   ]
  },
  {
   "cell_type": "code",
   "execution_count": 48,
   "id": "2b36dc66",
   "metadata": {},
   "outputs": [],
   "source": [
    "import numpy as np\n",
    "import pandas as pd \n",
    "import matplotlib.pyplot as plt\n",
    "import seaborn as sns; sns.set(style=\"ticks\", color_codes=True)\n",
    "import seaborn as sns\n",
    "from sklearn.model_selection import train_test_split\n",
    "from sklearn.tree import DecisionTreeClassifier\n",
    "from sklearn.ensemble import RandomForestClassifier\n",
    "from sklearn.neighbors import KNeighborsClassifier\n",
    "from scipy.stats import zscore\n",
    "import sklearn.metrics\n",
    "from sklearn.metrics import accuracy_score\n",
    "from sklearn.metrics import confusion_matrix\n",
    "from sklearn.metrics import classification_report\n",
    "from sklearn.preprocessing import StandardScaler\n",
    "from sklearn import metrics\n",
    "from sklearn.cluster import AgglomerativeClustering \n",
    "import  warnings\n",
    "from scipy.cluster.hierarchy import cophenet, dendrogram, linkage\n",
    "from scipy.spatial.distance import pdist\n",
    "from sklearn.cluster import KMeans\n",
    "warnings.filterwarnings(\"ignore\")\n",
    "plt.rcParams['figure.figsize'] = [15,8]\n"
   ]
  },
  {
   "cell_type": "code",
   "execution_count": 22,
   "id": "0a1811c0",
   "metadata": {},
   "outputs": [],
   "source": [
    "df = pd.read_csv('online_shoppers_intention.csv')"
   ]
  },
  {
   "cell_type": "code",
   "execution_count": 23,
   "id": "defe1de4",
   "metadata": {},
   "outputs": [
    {
     "data": {
      "text/html": [
       "<div>\n",
       "<style scoped>\n",
       "    .dataframe tbody tr th:only-of-type {\n",
       "        vertical-align: middle;\n",
       "    }\n",
       "\n",
       "    .dataframe tbody tr th {\n",
       "        vertical-align: top;\n",
       "    }\n",
       "\n",
       "    .dataframe thead th {\n",
       "        text-align: right;\n",
       "    }\n",
       "</style>\n",
       "<table border=\"1\" class=\"dataframe\">\n",
       "  <thead>\n",
       "    <tr style=\"text-align: right;\">\n",
       "      <th></th>\n",
       "      <th>Administrative</th>\n",
       "      <th>Administrative_Duration</th>\n",
       "      <th>Informational</th>\n",
       "      <th>Informational_Duration</th>\n",
       "      <th>ProductRelated</th>\n",
       "      <th>ProductRelated_Duration</th>\n",
       "      <th>BounceRates</th>\n",
       "      <th>ExitRates</th>\n",
       "      <th>PageValues</th>\n",
       "      <th>SpecialDay</th>\n",
       "      <th>Month</th>\n",
       "      <th>OperatingSystems</th>\n",
       "      <th>Browser</th>\n",
       "      <th>Region</th>\n",
       "      <th>TrafficType</th>\n",
       "      <th>VisitorType</th>\n",
       "      <th>Weekend</th>\n",
       "      <th>Revenue</th>\n",
       "    </tr>\n",
       "  </thead>\n",
       "  <tbody>\n",
       "    <tr>\n",
       "      <th>0</th>\n",
       "      <td>0</td>\n",
       "      <td>0.0</td>\n",
       "      <td>0</td>\n",
       "      <td>0.0</td>\n",
       "      <td>1</td>\n",
       "      <td>0.000000</td>\n",
       "      <td>0.20</td>\n",
       "      <td>0.20</td>\n",
       "      <td>0.0</td>\n",
       "      <td>0.0</td>\n",
       "      <td>Feb</td>\n",
       "      <td>1</td>\n",
       "      <td>1</td>\n",
       "      <td>1</td>\n",
       "      <td>1</td>\n",
       "      <td>Returning_Visitor</td>\n",
       "      <td>False</td>\n",
       "      <td>False</td>\n",
       "    </tr>\n",
       "    <tr>\n",
       "      <th>1</th>\n",
       "      <td>0</td>\n",
       "      <td>0.0</td>\n",
       "      <td>0</td>\n",
       "      <td>0.0</td>\n",
       "      <td>2</td>\n",
       "      <td>64.000000</td>\n",
       "      <td>0.00</td>\n",
       "      <td>0.10</td>\n",
       "      <td>0.0</td>\n",
       "      <td>0.0</td>\n",
       "      <td>Feb</td>\n",
       "      <td>2</td>\n",
       "      <td>2</td>\n",
       "      <td>1</td>\n",
       "      <td>2</td>\n",
       "      <td>Returning_Visitor</td>\n",
       "      <td>False</td>\n",
       "      <td>False</td>\n",
       "    </tr>\n",
       "    <tr>\n",
       "      <th>2</th>\n",
       "      <td>0</td>\n",
       "      <td>0.0</td>\n",
       "      <td>0</td>\n",
       "      <td>0.0</td>\n",
       "      <td>1</td>\n",
       "      <td>0.000000</td>\n",
       "      <td>0.20</td>\n",
       "      <td>0.20</td>\n",
       "      <td>0.0</td>\n",
       "      <td>0.0</td>\n",
       "      <td>Feb</td>\n",
       "      <td>4</td>\n",
       "      <td>1</td>\n",
       "      <td>9</td>\n",
       "      <td>3</td>\n",
       "      <td>Returning_Visitor</td>\n",
       "      <td>False</td>\n",
       "      <td>False</td>\n",
       "    </tr>\n",
       "    <tr>\n",
       "      <th>3</th>\n",
       "      <td>0</td>\n",
       "      <td>0.0</td>\n",
       "      <td>0</td>\n",
       "      <td>0.0</td>\n",
       "      <td>2</td>\n",
       "      <td>2.666667</td>\n",
       "      <td>0.05</td>\n",
       "      <td>0.14</td>\n",
       "      <td>0.0</td>\n",
       "      <td>0.0</td>\n",
       "      <td>Feb</td>\n",
       "      <td>3</td>\n",
       "      <td>2</td>\n",
       "      <td>2</td>\n",
       "      <td>4</td>\n",
       "      <td>Returning_Visitor</td>\n",
       "      <td>False</td>\n",
       "      <td>False</td>\n",
       "    </tr>\n",
       "    <tr>\n",
       "      <th>4</th>\n",
       "      <td>0</td>\n",
       "      <td>0.0</td>\n",
       "      <td>0</td>\n",
       "      <td>0.0</td>\n",
       "      <td>10</td>\n",
       "      <td>627.500000</td>\n",
       "      <td>0.02</td>\n",
       "      <td>0.05</td>\n",
       "      <td>0.0</td>\n",
       "      <td>0.0</td>\n",
       "      <td>Feb</td>\n",
       "      <td>3</td>\n",
       "      <td>3</td>\n",
       "      <td>1</td>\n",
       "      <td>4</td>\n",
       "      <td>Returning_Visitor</td>\n",
       "      <td>True</td>\n",
       "      <td>False</td>\n",
       "    </tr>\n",
       "  </tbody>\n",
       "</table>\n",
       "</div>"
      ],
      "text/plain": [
       "   Administrative  Administrative_Duration  Informational  \\\n",
       "0               0                      0.0              0   \n",
       "1               0                      0.0              0   \n",
       "2               0                      0.0              0   \n",
       "3               0                      0.0              0   \n",
       "4               0                      0.0              0   \n",
       "\n",
       "   Informational_Duration  ProductRelated  ProductRelated_Duration  \\\n",
       "0                     0.0               1                 0.000000   \n",
       "1                     0.0               2                64.000000   \n",
       "2                     0.0               1                 0.000000   \n",
       "3                     0.0               2                 2.666667   \n",
       "4                     0.0              10               627.500000   \n",
       "\n",
       "   BounceRates  ExitRates  PageValues  SpecialDay Month  OperatingSystems  \\\n",
       "0         0.20       0.20         0.0         0.0   Feb                 1   \n",
       "1         0.00       0.10         0.0         0.0   Feb                 2   \n",
       "2         0.20       0.20         0.0         0.0   Feb                 4   \n",
       "3         0.05       0.14         0.0         0.0   Feb                 3   \n",
       "4         0.02       0.05         0.0         0.0   Feb                 3   \n",
       "\n",
       "   Browser  Region  TrafficType        VisitorType  Weekend  Revenue  \n",
       "0        1       1            1  Returning_Visitor    False    False  \n",
       "1        2       1            2  Returning_Visitor    False    False  \n",
       "2        1       9            3  Returning_Visitor    False    False  \n",
       "3        2       2            4  Returning_Visitor    False    False  \n",
       "4        3       1            4  Returning_Visitor     True    False  "
      ]
     },
     "execution_count": 23,
     "metadata": {},
     "output_type": "execute_result"
    }
   ],
   "source": [
    "df.head()"
   ]
  },
  {
   "cell_type": "code",
   "execution_count": 24,
   "id": "d0f02892",
   "metadata": {},
   "outputs": [
    {
     "name": "stdout",
     "output_type": "stream",
     "text": [
      "<class 'pandas.core.frame.DataFrame'>\n",
      "RangeIndex: 12330 entries, 0 to 12329\n",
      "Data columns (total 18 columns):\n",
      " #   Column                   Non-Null Count  Dtype  \n",
      "---  ------                   --------------  -----  \n",
      " 0   Administrative           12330 non-null  int64  \n",
      " 1   Administrative_Duration  12330 non-null  float64\n",
      " 2   Informational            12330 non-null  int64  \n",
      " 3   Informational_Duration   12330 non-null  float64\n",
      " 4   ProductRelated           12330 non-null  int64  \n",
      " 5   ProductRelated_Duration  12330 non-null  float64\n",
      " 6   BounceRates              12330 non-null  float64\n",
      " 7   ExitRates                12330 non-null  float64\n",
      " 8   PageValues               12330 non-null  float64\n",
      " 9   SpecialDay               12330 non-null  float64\n",
      " 10  Month                    12330 non-null  object \n",
      " 11  OperatingSystems         12330 non-null  int64  \n",
      " 12  Browser                  12330 non-null  int64  \n",
      " 13  Region                   12330 non-null  int64  \n",
      " 14  TrafficType              12330 non-null  int64  \n",
      " 15  VisitorType              12330 non-null  object \n",
      " 16  Weekend                  12330 non-null  bool   \n",
      " 17  Revenue                  12330 non-null  bool   \n",
      "dtypes: bool(2), float64(7), int64(7), object(2)\n",
      "memory usage: 1.5+ MB\n"
     ]
    }
   ],
   "source": [
    "df.info()"
   ]
  },
  {
   "cell_type": "markdown",
   "id": "362f22fd",
   "metadata": {},
   "source": [
    "\"Administrative\", \"Administrative Duration\", \"Informational\", \"Informational Duration\", \"Product Related\" and \"Product Related Duration\" represent the number of different types of pages visited by the visitor in that session and total time spent in each of these page categories."
   ]
  },
  {
   "cell_type": "code",
   "execution_count": null,
   "id": "b4483c59",
   "metadata": {},
   "outputs": [],
   "source": [
    "for i in df.columns:\n",
    "    print(i,df[i].nunique())"
   ]
  },
  {
   "cell_type": "code",
   "execution_count": null,
   "id": "64646146",
   "metadata": {},
   "outputs": [],
   "source": [
    "for i in df.columns:\n",
    "    print(df[i].value_counts())"
   ]
  },
  {
   "cell_type": "code",
   "execution_count": 25,
   "id": "dec6ed57",
   "metadata": {},
   "outputs": [],
   "source": [
    "df['SpecialDay']=df['SpecialDay'].astype(object)\n",
    "df['Month']=df['Month'].astype(object)\n",
    "df['OperatingSystems']=df['OperatingSystems'].astype(object)\n",
    "df['Browser']=df['Browser'].astype(object)\n",
    "df['Region']=df['Region'].astype(object)\n",
    "df['TrafficType']=df['TrafficType'].astype(object)\n",
    "df['Weekend']=df['Weekend'].astype(object)"
   ]
  },
  {
   "cell_type": "code",
   "execution_count": null,
   "id": "04f7fe42",
   "metadata": {},
   "outputs": [],
   "source": [
    "df.info()"
   ]
  },
  {
   "cell_type": "code",
   "execution_count": null,
   "id": "e5e36849",
   "metadata": {},
   "outputs": [],
   "source": [
    "df.head()"
   ]
  },
  {
   "cell_type": "code",
   "execution_count": 26,
   "id": "92e374d1",
   "metadata": {},
   "outputs": [],
   "source": [
    "num_df= df.select_dtypes(include=np.number)\n",
    "cat_df= df.select_dtypes(exclude=np.number)"
   ]
  },
  {
   "cell_type": "code",
   "execution_count": null,
   "id": "fb1fe0ae",
   "metadata": {},
   "outputs": [],
   "source": [
    "for i in num_df.columns:\n",
    "    sns.boxplot(df[i])\n",
    "    plt.show()"
   ]
  },
  {
   "cell_type": "code",
   "execution_count": null,
   "id": "6769393b",
   "metadata": {},
   "outputs": [],
   "source": [
    "for i in num_df.columns:\n",
    "    sns.distplot(df[i])\n",
    "    plt.show()"
   ]
  },
  {
   "cell_type": "code",
   "execution_count": null,
   "id": "de01da68",
   "metadata": {},
   "outputs": [],
   "source": [
    "for i in cat_df.columns:\n",
    "    sns.countplot(df[i])\n",
    "    plt.show()"
   ]
  },
  {
   "cell_type": "code",
   "execution_count": null,
   "id": "294b6897",
   "metadata": {},
   "outputs": [],
   "source": [
    "num_df.head(2)"
   ]
  },
  {
   "cell_type": "code",
   "execution_count": null,
   "id": "82dc84a1",
   "metadata": {},
   "outputs": [],
   "source": [
    "cat_df.head(2)"
   ]
  },
  {
   "cell_type": "code",
   "execution_count": null,
   "id": "0c568375",
   "metadata": {},
   "outputs": [],
   "source": [
    "sns.scatterplot(df['Administrative'],df['Administrative_Duration'])\n",
    "plt.show()"
   ]
  },
  {
   "cell_type": "code",
   "execution_count": null,
   "id": "02c991a1",
   "metadata": {},
   "outputs": [],
   "source": [
    "sns.scatterplot(df['Administrative'],df['Informational'])\n",
    "plt.show()"
   ]
  },
  {
   "cell_type": "code",
   "execution_count": null,
   "id": "d017bfce",
   "metadata": {},
   "outputs": [],
   "source": [
    "sns.scatterplot(df['Administrative'],df['Informational_Duration'])\n",
    "plt.show()"
   ]
  },
  {
   "cell_type": "code",
   "execution_count": null,
   "id": "7156eec2",
   "metadata": {},
   "outputs": [],
   "source": [
    "sns.scatterplot(df['Administrative'],df['ProductRelated'])\n",
    "plt.show()"
   ]
  },
  {
   "cell_type": "code",
   "execution_count": null,
   "id": "440f1c3b",
   "metadata": {},
   "outputs": [],
   "source": [
    "sns.scatterplot(df['Administrative'],df['ProductRelated_Duration'])\n",
    "plt.show()"
   ]
  },
  {
   "cell_type": "code",
   "execution_count": null,
   "id": "fba30fb2",
   "metadata": {},
   "outputs": [],
   "source": [
    "sns.scatterplot(df['Administrative'],df['BounceRates'])\n",
    "plt.show()"
   ]
  },
  {
   "cell_type": "code",
   "execution_count": null,
   "id": "9093f1e9",
   "metadata": {},
   "outputs": [],
   "source": [
    "sns.scatterplot(df['Administrative'],df['ExitRates'])\n",
    "plt.show()"
   ]
  },
  {
   "cell_type": "code",
   "execution_count": null,
   "id": "6c6c57eb",
   "metadata": {},
   "outputs": [],
   "source": [
    "sns.scatterplot(df['Administrative'],df['PageValues'])\n",
    "plt.show()"
   ]
  },
  {
   "cell_type": "code",
   "execution_count": null,
   "id": "2738fa7d",
   "metadata": {},
   "outputs": [],
   "source": [
    "plt.figure(figsize=(10,10))\n",
    "sns.heatmap(num_df.corr(),annot=True,vmin=-1,vmax=1)\n",
    "plt.show()"
   ]
  },
  {
   "cell_type": "code",
   "execution_count": null,
   "id": "243a4210",
   "metadata": {},
   "outputs": [],
   "source": [
    "sns.scatterplot(df['ProductRelated_Duration'],df['ProductRelated'])\n",
    "plt.show()"
   ]
  },
  {
   "cell_type": "code",
   "execution_count": null,
   "id": "429b3cf4",
   "metadata": {},
   "outputs": [],
   "source": [
    "sns.scatterplot(df['BounceRates'],df['ExitRates'])\n",
    "plt.show()"
   ]
  },
  {
   "cell_type": "code",
   "execution_count": null,
   "id": "e2fa8d81",
   "metadata": {},
   "outputs": [],
   "source": [
    "num_df.columns"
   ]
  },
  {
   "cell_type": "code",
   "execution_count": null,
   "id": "22b8c7eb",
   "metadata": {},
   "outputs": [],
   "source": [
    "cat_df.columns"
   ]
  },
  {
   "cell_type": "code",
   "execution_count": null,
   "id": "037c6d2b",
   "metadata": {},
   "outputs": [],
   "source": [
    "for j in num_df.columns:\n",
    "    for i in cat_df.columns:\n",
    "        sns.boxplot(y=df[j],x=df[i])\n",
    "        plt.show()"
   ]
  },
  {
   "cell_type": "code",
   "execution_count": null,
   "id": "ebb9062e",
   "metadata": {},
   "outputs": [],
   "source": [
    "cat_df.head()"
   ]
  },
  {
   "cell_type": "code",
   "execution_count": null,
   "id": "faa2bc2d",
   "metadata": {},
   "outputs": [],
   "source": [
    "for i in cat_df.columns:\n",
    "    if i == 'Month':\n",
    "        continue\n",
    "    else:\n",
    "        pd.crosstab(cat_df[i],cat_df['Month']).plot(kind='bar')\n",
    "        plt.show()"
   ]
  },
  {
   "cell_type": "code",
   "execution_count": null,
   "id": "0da49bbc",
   "metadata": {},
   "outputs": [],
   "source": [
    "for i in cat_df.columns:\n",
    "    if i == 'OperatingSystems':\n",
    "        continue\n",
    "    else:\n",
    "        pd.crosstab(cat_df[i],cat_df['OperatingSystems']).plot(kind='bar')\n",
    "        plt.show()"
   ]
  },
  {
   "cell_type": "code",
   "execution_count": null,
   "id": "eaea6087",
   "metadata": {},
   "outputs": [],
   "source": [
    "for i in cat_df.columns:\n",
    "    if i == 'Browser':\n",
    "        continue\n",
    "    else:\n",
    "        pd.crosstab(cat_df[i],cat_df['Browser']).plot(kind='bar')\n",
    "        plt.show()"
   ]
  },
  {
   "cell_type": "code",
   "execution_count": null,
   "id": "b1b14b6d",
   "metadata": {},
   "outputs": [],
   "source": [
    "for i in cat_df.columns:\n",
    "    if i == 'Region':\n",
    "        continue\n",
    "    else:\n",
    "        pd.crosstab(cat_df[i],cat_df['Region']).plot(kind='bar')\n",
    "        plt.show()"
   ]
  },
  {
   "cell_type": "code",
   "execution_count": null,
   "id": "1339173c",
   "metadata": {},
   "outputs": [],
   "source": [
    "for i in cat_df.columns:\n",
    "    if i == 'TrafficType':\n",
    "        continue\n",
    "    else:\n",
    "        pd.crosstab(cat_df[i],cat_df['TrafficType']).plot(kind='bar')\n",
    "        plt.show()"
   ]
  },
  {
   "cell_type": "code",
   "execution_count": null,
   "id": "f63750d3",
   "metadata": {},
   "outputs": [],
   "source": [
    "for i in cat_df.columns:\n",
    "    if i == 'VisitorType':\n",
    "        continue\n",
    "    else:\n",
    "        pd.crosstab(cat_df[i],cat_df['VisitorType']).plot(kind='bar')\n",
    "        plt.show()"
   ]
  },
  {
   "cell_type": "code",
   "execution_count": null,
   "id": "050a5c46",
   "metadata": {},
   "outputs": [],
   "source": [
    "for i in cat_df.columns:\n",
    "    if i == 'Weekend':\n",
    "        continue\n",
    "    else:\n",
    "        pd.crosstab(cat_df[i],cat_df['Weekend']).plot(kind='bar')\n",
    "        plt.show()"
   ]
  },
  {
   "cell_type": "code",
   "execution_count": null,
   "id": "c3165422",
   "metadata": {},
   "outputs": [],
   "source": [
    "for i in cat_df.columns:\n",
    "    if i == 'Revenue':\n",
    "        continue\n",
    "    else:\n",
    "        pd.crosstab(cat_df[i],cat_df['Revenue']).plot(kind='bar')\n",
    "        plt.show()"
   ]
  },
  {
   "cell_type": "code",
   "execution_count": null,
   "id": "223ee14e",
   "metadata": {},
   "outputs": [],
   "source": [
    "cat_df.columns"
   ]
  },
  {
   "cell_type": "code",
   "execution_count": null,
   "id": "f338286b",
   "metadata": {},
   "outputs": [],
   "source": [
    "num_df.columns"
   ]
  },
  {
   "cell_type": "code",
   "execution_count": null,
   "id": "783c86cb",
   "metadata": {},
   "outputs": [],
   "source": [
    "for j in cat_df.columns:\n",
    "    for i in num_df.columns:\n",
    "        if i == 'Administrative':\n",
    "            continue\n",
    "        else:\n",
    "            sns.scatterplot(df[i],df['Administrative'],hue=df[j])\n",
    "            plt.show()"
   ]
  },
  {
   "cell_type": "code",
   "execution_count": null,
   "id": "bfb2eeaa",
   "metadata": {},
   "outputs": [],
   "source": [
    "for j in cat_df.columns:\n",
    "    for i in num_df.columns:\n",
    "        if i == 'Administrative_Duration':\n",
    "            continue\n",
    "        else:\n",
    "            sns.scatterplot(df[i],df['Administrative_Duration'],hue=df[j])\n",
    "            plt.show()"
   ]
  },
  {
   "cell_type": "code",
   "execution_count": null,
   "id": "45b23b6d",
   "metadata": {},
   "outputs": [],
   "source": [
    "for j in cat_df.columns:\n",
    "    for i in num_df.columns:\n",
    "        if i == 'Informational':\n",
    "            continue\n",
    "        else:\n",
    "            sns.scatterplot(df[i],df['Informational'],hue=df[j])\n",
    "            plt.show()"
   ]
  },
  {
   "cell_type": "code",
   "execution_count": null,
   "id": "0c25b2fb",
   "metadata": {},
   "outputs": [],
   "source": [
    "for j in cat_df.columns:\n",
    "    for i in num_df.columns:\n",
    "        if i == 'Informational_Duration':\n",
    "            continue\n",
    "        else:\n",
    "            sns.scatterplot(df[i],df['Informational_Duration'],hue=df[j])\n",
    "            plt.show()"
   ]
  },
  {
   "cell_type": "code",
   "execution_count": null,
   "id": "6c27b8b7",
   "metadata": {},
   "outputs": [],
   "source": [
    "for j in cat_df.columns:\n",
    "    for i in num_df.columns:\n",
    "        if i == 'ProductRelated':\n",
    "            continue\n",
    "        else:\n",
    "            sns.scatterplot(df[i],df['ProductRelated'],hue=df[j])\n",
    "            plt.show()"
   ]
  },
  {
   "cell_type": "code",
   "execution_count": null,
   "id": "6022e604",
   "metadata": {},
   "outputs": [],
   "source": [
    "for j in cat_df.columns:\n",
    "    for i in num_df.columns:\n",
    "        if i == 'ProductRelated_Duration':\n",
    "            continue\n",
    "        else:\n",
    "            sns.scatterplot(df[i],df['ProductRelated_Duration'],hue=df[j])\n",
    "            plt.show()"
   ]
  },
  {
   "cell_type": "code",
   "execution_count": null,
   "id": "fa9d4355",
   "metadata": {},
   "outputs": [],
   "source": [
    "for j in cat_df.columns:\n",
    "    for i in num_df.columns:\n",
    "        if i == 'BounceRates':\n",
    "            continue\n",
    "        else:\n",
    "            sns.scatterplot(df[i],df['BounceRates'],hue=df[j])\n",
    "            plt.show()"
   ]
  },
  {
   "cell_type": "code",
   "execution_count": null,
   "id": "283a4eee",
   "metadata": {},
   "outputs": [],
   "source": [
    "for j in cat_df.columns:\n",
    "    for i in num_df.columns:\n",
    "        if i == 'ExitRates':\n",
    "            continue\n",
    "        else:\n",
    "            sns.scatterplot(df[i],df['ExitRates'],hue=df[j])\n",
    "            plt.show()"
   ]
  },
  {
   "cell_type": "code",
   "execution_count": null,
   "id": "f10f3a49",
   "metadata": {},
   "outputs": [],
   "source": [
    "for j in cat_df.columns:\n",
    "    for i in num_df.columns:\n",
    "        if i == 'PageValues':\n",
    "            continue\n",
    "        else:\n",
    "            sns.scatterplot(df[i],df['PageValues'],hue=df[j])\n",
    "            plt.show()"
   ]
  },
  {
   "cell_type": "code",
   "execution_count": null,
   "id": "958b4131",
   "metadata": {},
   "outputs": [],
   "source": [
    "df.isnull().sum()"
   ]
  },
  {
   "cell_type": "code",
   "execution_count": null,
   "id": "a128632e",
   "metadata": {},
   "outputs": [],
   "source": [
    "for i in num_df.columns:\n",
    "    sns.boxplot(num_df[i])\n",
    "    plt.show()"
   ]
  },
  {
   "cell_type": "code",
   "execution_count": 27,
   "id": "c3e3dac6",
   "metadata": {},
   "outputs": [],
   "source": [
    "def cap(s):\n",
    "    q1= num_df[s].quantile(0.25)\n",
    "    q3= num_df[s].quantile(0.75)\n",
    "    iqr= q3 -q1\n",
    "    ub= q3 + 1.5 * iqr \n",
    "    lb= q1 - 1.5 * iqr\n",
    "    uc = num_df[s].quantile(0.90)\n",
    "    lc = num_df[s].quantile(0.10)\n",
    "    ind1=num_df[num_df[s] > ub].index\n",
    "    ind2=num_df[num_df[s] < lb].index\n",
    "    num_df.loc[ind1,s]=uc\n",
    "    num_df.loc[ind2,s]=lc"
   ]
  },
  {
   "cell_type": "code",
   "execution_count": 28,
   "id": "a464f0aa",
   "metadata": {},
   "outputs": [
    {
     "data": {
      "text/plain": [
       "12330"
      ]
     },
     "execution_count": 28,
     "metadata": {},
     "output_type": "execute_result"
    }
   ],
   "source": [
    "len(df)"
   ]
  },
  {
   "cell_type": "code",
   "execution_count": null,
   "id": "3972e4b0",
   "metadata": {},
   "outputs": [],
   "source": [
    "num_df.columns"
   ]
  },
  {
   "cell_type": "code",
   "execution_count": 29,
   "id": "9263784d",
   "metadata": {},
   "outputs": [],
   "source": [
    "cap('Administrative')\n",
    "cap('Administrative_Duration')\n",
    "cap('Informational')\n",
    "cap('Informational_Duration')\n",
    "cap('ProductRelated')\n",
    "cap('ProductRelated_Duration')\n",
    "cap('BounceRates')\n",
    "cap('ExitRates')\n",
    "cap('PageValues')"
   ]
  },
  {
   "cell_type": "code",
   "execution_count": null,
   "id": "3859f023",
   "metadata": {},
   "outputs": [],
   "source": [
    "len(df)"
   ]
  },
  {
   "cell_type": "code",
   "execution_count": 10,
   "id": "a0811c95",
   "metadata": {},
   "outputs": [
    {
     "data": {
      "text/plain": [
       "(12330, 9)"
      ]
     },
     "execution_count": 10,
     "metadata": {},
     "output_type": "execute_result"
    }
   ],
   "source": [
    "num_df.shape"
   ]
  },
  {
   "cell_type": "code",
   "execution_count": 30,
   "id": "24ce52ae",
   "metadata": {},
   "outputs": [],
   "source": [
    "cat_df = pd.get_dummies(data = cat_df, drop_first = True)"
   ]
  },
  {
   "cell_type": "code",
   "execution_count": 31,
   "id": "ff450597",
   "metadata": {},
   "outputs": [
    {
     "data": {
      "text/plain": [
       "12330"
      ]
     },
     "execution_count": 31,
     "metadata": {},
     "output_type": "execute_result"
    }
   ],
   "source": [
    "len(cat_df)"
   ]
  },
  {
   "cell_type": "code",
   "execution_count": 33,
   "id": "af57799b",
   "metadata": {},
   "outputs": [
    {
     "data": {
      "text/plain": [
       "12330"
      ]
     },
     "execution_count": 33,
     "metadata": {},
     "output_type": "execute_result"
    }
   ],
   "source": [
    "len(X)"
   ]
  },
  {
   "cell_type": "code",
   "execution_count": 41,
   "id": "1d5173cd",
   "metadata": {},
   "outputs": [
    {
     "data": {
      "text/html": [
       "<div>\n",
       "<style scoped>\n",
       "    .dataframe tbody tr th:only-of-type {\n",
       "        vertical-align: middle;\n",
       "    }\n",
       "\n",
       "    .dataframe tbody tr th {\n",
       "        vertical-align: top;\n",
       "    }\n",
       "\n",
       "    .dataframe thead th {\n",
       "        text-align: right;\n",
       "    }\n",
       "</style>\n",
       "<table border=\"1\" class=\"dataframe\">\n",
       "  <thead>\n",
       "    <tr style=\"text-align: right;\">\n",
       "      <th></th>\n",
       "      <th>Administrative</th>\n",
       "      <th>Administrative_Duration</th>\n",
       "      <th>Informational</th>\n",
       "      <th>Informational_Duration</th>\n",
       "      <th>ProductRelated</th>\n",
       "      <th>ProductRelated_Duration</th>\n",
       "      <th>BounceRates</th>\n",
       "      <th>ExitRates</th>\n",
       "      <th>PageValues</th>\n",
       "    </tr>\n",
       "  </thead>\n",
       "  <tbody>\n",
       "    <tr>\n",
       "      <th>0</th>\n",
       "      <td>-0.777194</td>\n",
       "      <td>-0.724807</td>\n",
       "      <td>-0.520831</td>\n",
       "      <td>-0.492257</td>\n",
       "      <td>-1.065954</td>\n",
       "      <td>-1.003477</td>\n",
       "      <td>2.331309</td>\n",
       "      <td>2.141662</td>\n",
       "      <td>-0.533268</td>\n",
       "    </tr>\n",
       "    <tr>\n",
       "      <th>1</th>\n",
       "      <td>-0.777194</td>\n",
       "      <td>-0.724807</td>\n",
       "      <td>-0.520831</td>\n",
       "      <td>-0.492257</td>\n",
       "      <td>-1.023068</td>\n",
       "      <td>-0.935891</td>\n",
       "      <td>-0.668051</td>\n",
       "      <td>2.141662</td>\n",
       "      <td>-0.533268</td>\n",
       "    </tr>\n",
       "    <tr>\n",
       "      <th>2</th>\n",
       "      <td>-0.777194</td>\n",
       "      <td>-0.724807</td>\n",
       "      <td>-0.520831</td>\n",
       "      <td>-0.492257</td>\n",
       "      <td>-1.065954</td>\n",
       "      <td>-1.003477</td>\n",
       "      <td>2.331309</td>\n",
       "      <td>2.141662</td>\n",
       "      <td>-0.533268</td>\n",
       "    </tr>\n",
       "    <tr>\n",
       "      <th>3</th>\n",
       "      <td>-0.777194</td>\n",
       "      <td>-0.724807</td>\n",
       "      <td>-0.520831</td>\n",
       "      <td>-0.492257</td>\n",
       "      <td>-1.023068</td>\n",
       "      <td>-1.000661</td>\n",
       "      <td>2.331309</td>\n",
       "      <td>2.141662</td>\n",
       "      <td>-0.533268</td>\n",
       "    </tr>\n",
       "    <tr>\n",
       "      <th>4</th>\n",
       "      <td>-0.777194</td>\n",
       "      <td>-0.724807</td>\n",
       "      <td>-0.520831</td>\n",
       "      <td>-0.492257</td>\n",
       "      <td>-0.679983</td>\n",
       "      <td>-0.340814</td>\n",
       "      <td>0.362710</td>\n",
       "      <td>0.464999</td>\n",
       "      <td>-0.533268</td>\n",
       "    </tr>\n",
       "  </tbody>\n",
       "</table>\n",
       "</div>"
      ],
      "text/plain": [
       "   Administrative  Administrative_Duration  Informational  \\\n",
       "0       -0.777194                -0.724807      -0.520831   \n",
       "1       -0.777194                -0.724807      -0.520831   \n",
       "2       -0.777194                -0.724807      -0.520831   \n",
       "3       -0.777194                -0.724807      -0.520831   \n",
       "4       -0.777194                -0.724807      -0.520831   \n",
       "\n",
       "   Informational_Duration  ProductRelated  ProductRelated_Duration  \\\n",
       "0               -0.492257       -1.065954                -1.003477   \n",
       "1               -0.492257       -1.023068                -0.935891   \n",
       "2               -0.492257       -1.065954                -1.003477   \n",
       "3               -0.492257       -1.023068                -1.000661   \n",
       "4               -0.492257       -0.679983                -0.340814   \n",
       "\n",
       "   BounceRates  ExitRates  PageValues  \n",
       "0     2.331309   2.141662   -0.533268  \n",
       "1    -0.668051   2.141662   -0.533268  \n",
       "2     2.331309   2.141662   -0.533268  \n",
       "3     2.331309   2.141662   -0.533268  \n",
       "4     0.362710   0.464999   -0.533268  "
      ]
     },
     "execution_count": 41,
     "metadata": {},
     "output_type": "execute_result"
    }
   ],
   "source": [
    "# initialize the standard scalar\n",
    "X_scaler = StandardScaler()\n",
    "\n",
    "# scale all the numerical columns\n",
    "# standardize all the columns of the dataframe 'df_feature'\n",
    "num_scaled = X_scaler.fit_transform(num_df)\n",
    "\n",
    "# create a dataframe of scaled numerical variables\n",
    "# pass the required column names to the parameter 'columns'\n",
    "num_df = pd.DataFrame(num_scaled, columns = num_df.columns)\n",
    "\n",
    "# display first five observations\n",
    "num_df.head()"
   ]
  },
  {
   "cell_type": "code",
   "execution_count": 42,
   "id": "eb6cacef",
   "metadata": {},
   "outputs": [],
   "source": [
    "X = pd.concat([num_df, cat_df], axis = 1)"
   ]
  },
  {
   "cell_type": "code",
   "execution_count": 55,
   "id": "349c41d1",
   "metadata": {},
   "outputs": [],
   "source": [
    "X= X.drop(columns='Revenue')"
   ]
  },
  {
   "cell_type": "code",
   "execution_count": 53,
   "id": "b4bc8de3",
   "metadata": {},
   "outputs": [],
   "source": [
    "def k_val(x):\n",
    "    inertia = [] #inertia (within cluster sum square) or total spread\n",
    "    sil=[]\n",
    "    for k in range(2,10):\n",
    "        kmeans = KMeans(n_clusters=k)\n",
    "        kmeans.fit(x)\n",
    "        inertia.append(kmeans.inertia_)\n",
    "        sil.append(metrics.silhouette_score(x,kmeans.labels_))\n",
    "    plt.plot(range(2,10), inertia, color='red',marker='D')\n",
    "    plt.title('Graph of k values and WCSS')\n",
    "    plt.xlabel('k values')\n",
    "    plt.ylabel('wcss values')\n",
    "    plt.show()"
   ]
  },
  {
   "cell_type": "code",
   "execution_count": 58,
   "id": "686ad7c4",
   "metadata": {},
   "outputs": [],
   "source": [
    "def agg(x,k):\n",
    "    for y in ['euclidean','manhattan','cosine']:\n",
    "        for z in ['average','complete','single','ward']:\n",
    "            if z in 'ward':\n",
    "                y='euclidean'\n",
    "                m2 = AgglomerativeClustering(n_clusters=k, affinity=y,  linkage=z)\n",
    "                m2.fit(x)\n",
    "                print(\"silhouette_score for\",y,'and',z,metrics.silhouette_score(x,m2.labels_)) \n",
    "                Z = linkage(x,method= z) \n",
    "                c, coph_dists = cophenet(Z , pdist(x))\n",
    "                print(\"cophenet correlation for\",y,'and',z,c)\n",
    "            else:\n",
    "                m2 = AgglomerativeClustering(n_clusters=k, affinity=y,  linkage=z)\n",
    "                m2.fit(x)\n",
    "                print(\"silhouette_score for\",y,'and',z,metrics.silhouette_score(x,m2.labels_)) \n",
    "                Z = linkage(x,method= z) \n",
    "                c, coph_dists = cophenet(Z , pdist(x))\n",
    "                print(\"cophenet correlation for\",y,'and',z,c)"
   ]
  },
  {
   "cell_type": "code",
   "execution_count": 78,
   "id": "2dc9f1d4",
   "metadata": {},
   "outputs": [],
   "source": [
    "def plot(z,y,level=5):\n",
    "    plt.figure(figsize=(18, 16))\n",
    "    plt.title('Agglomerative Hierarchical Clustering Dendogram')\n",
    "    plt.xlabel('sample index')\n",
    "    plt.ylabel('Distance')\n",
    "    Z = linkage(X,method=y,metric=z)\n",
    "    dendrogram(Z,leaf_font_size=10,leaf_rotation=90.0,truncate_mode='level',p=level)\n",
    "    plt.tight_layout()"
   ]
  },
  {
   "cell_type": "code",
   "execution_count": 56,
   "id": "174e5ca3",
   "metadata": {},
   "outputs": [
    {
     "data": {
      "image/png": "[encoded data removed]",
      "text/plain": [
       "<Figure size 1080x576 with 1 Axes>"
      ]
     },
     "metadata": {},
     "output_type": "display_data"
    }
   ],
   "source": [
    "k_val(X)"
   ]
  },
  {
   "cell_type": "code",
   "execution_count": 80,
   "id": "23110e86",
   "metadata": {},
   "outputs": [
    {
     "name": "stdout",
     "output_type": "stream",
     "text": [
      "silhouette_score for euclidean and average 0.2743934091176981\n",
      "cophenet correlation for euclidean and average 0.7621276193764889\n",
      "silhouette_score for euclidean and complete 0.24137078020257038\n",
      "cophenet correlation for euclidean and complete 0.7031078450699093\n",
      "silhouette_score for euclidean and single 0.21227763625251397\n",
      "cophenet correlation for euclidean and single 0.6150418094106482\n",
      "silhouette_score for euclidean and ward 0.2675703489297466\n",
      "cophenet correlation for euclidean and ward 0.6910381923413437\n",
      "silhouette_score for manhattan and average 0.2672141994175405\n",
      "cophenet correlation for manhattan and average 0.7621276193764889\n",
      "silhouette_score for manhattan and complete 0.26494193233823005\n",
      "cophenet correlation for manhattan and complete 0.7031078450699093\n",
      "silhouette_score for manhattan and single 0.2672141994175405\n",
      "cophenet correlation for manhattan and single 0.6150418094106482\n",
      "silhouette_score for euclidean and ward 0.2675703489297466\n",
      "cophenet correlation for euclidean and ward 0.6910381923413437\n",
      "silhouette_score for cosine and average 0.1800662367468878\n",
      "cophenet correlation for cosine and average 0.7621276193764889\n",
      "silhouette_score for cosine and complete 0.1695430297194111\n",
      "cophenet correlation for cosine and complete 0.7031078450699093\n",
      "silhouette_score for cosine and single -0.10267329447416293\n",
      "cophenet correlation for cosine and single 0.6150418094106482\n",
      "silhouette_score for euclidean and ward 0.2675703489297466\n",
      "cophenet correlation for euclidean and ward 0.6910381923413437\n"
     ]
    }
   ],
   "source": [
    "agg(X,2)"
   ]
  },
  {
   "cell_type": "code",
   "execution_count": 81,
   "id": "1b974021",
   "metadata": {},
   "outputs": [
    {
     "data": {
      "image/png": "[encoded data removed]",
      "text/plain": [
       "<Figure size 1296x1152 with 1 Axes>"
      ]
     },
     "metadata": {},
     "output_type": "display_data"
    }
   ],
   "source": [
    "plot('cityblock','average')"
   ]
  },
  {
   "cell_type": "code",
   "execution_count": 70,
   "id": "9151be24",
   "metadata": {},
   "outputs": [
    {
     "name": "stdout",
     "output_type": "stream",
     "text": [
      "Covariance Matrix \n",
      "%s [[ 1.00008111  0.81589181  0.36213118 ... -0.00181691 -0.01786363\n",
      "   0.01157841]\n",
      " [ 0.81589181  1.00008111  0.34001071 ... -0.0017819  -0.02466228\n",
      "   0.01554135]\n",
      " [ 0.36213118  0.34001071  1.00008111 ... -0.00220495  0.01991763\n",
      "   0.01841576]\n",
      " ...\n",
      " [-0.00181691 -0.0017819  -0.00220495 ...  0.00684679 -0.00589959\n",
      "  -0.00103587]\n",
      " [-0.01786363 -0.02466228  0.01991763 ... -0.00589959  0.12347489\n",
      "  -0.00585599]\n",
      " [ 0.01157841  0.01554135  0.01841576 ... -0.00103587 -0.00585599\n",
      "   0.17851354]]\n"
     ]
    }
   ],
   "source": [
    "cov_matrix = np.cov(X.T)\n",
    "print('Covariance Matrix \\n%s', cov_matrix)"
   ]
  },
  {
   "cell_type": "code",
   "execution_count": 71,
   "id": "264a2bbe",
   "metadata": {},
   "outputs": [
    {
     "name": "stdout",
     "output_type": "stream",
     "text": [
      "Eigen Vectors \n",
      "%s [[-3.64305725e-01  2.31223501e-03  5.62235256e-01 ...  3.49308883e-04\n",
      "  -2.62179225e-05  3.71111864e-18]\n",
      " [-3.44850210e-01 -4.74218484e-03  6.10440325e-01 ... -5.16262139e-04\n",
      "   4.31947780e-05  2.87344447e-18]\n",
      " [-3.29916288e-01 -4.95205654e-01 -2.09649592e-01 ...  1.02058597e-04\n",
      "  -4.62028979e-05 -2.27707378e-17]\n",
      " ...\n",
      " [ 1.60625404e-03  1.06115439e-03  1.26927497e-03 ... -2.36242332e-04\n",
      "   9.43428140e-05  3.12632133e-16]\n",
      " [ 2.44271265e-03 -6.60950767e-02 -3.05139948e-02 ... -2.30871721e-04\n",
      "   1.24046658e-05  1.28422076e-17]\n",
      " [-1.18359012e-02  4.17071507e-03 -2.24827553e-03 ...  1.71135088e-04\n",
      "  -9.85576772e-06  2.31706265e-17]]\n",
      "\n",
      " Eigen Values \n",
      "%s [ 4.07656461e+00  1.53194969e+00  1.09256187e+00  1.05328268e+00\n",
      "  7.48213431e-01  3.38215881e-01  2.90862503e-01  2.81780004e-01\n",
      "  2.13701464e-01  2.00387982e-01  1.86982977e-01  1.79999830e-01\n",
      "  1.74552817e-01  1.64007223e-01  1.43782999e-01  1.36064066e-01\n",
      "  1.23134835e-01  9.93655204e-02  9.31774683e-02  7.93873386e-02\n",
      "  7.37044901e-02  6.98189212e-02  6.39183475e-02  6.02555075e-02\n",
      "  5.46055728e-02  5.06785741e-02  4.60660866e-02  4.41731474e-02\n",
      "  4.07430892e-02  3.92383428e-02  3.54238387e-02  3.41462515e-02\n",
      "  3.27048913e-02  3.01457880e-02  2.89108633e-02  2.73799555e-02\n",
      "  2.52184253e-02  2.41336434e-02  2.29465840e-02  2.18704047e-02\n",
      "  1.99357705e-02  1.96680583e-02  1.85409173e-02  1.82292340e-02\n",
      "  1.57809817e-02  1.35695509e-02  1.24568245e-02  1.13225591e-02\n",
      "  1.01918109e-02  9.24246027e-03  9.16210761e-03  7.00631225e-03\n",
      "  5.05436248e-03  3.49728166e-03  3.26835902e-03  3.15829274e-03\n",
      "  2.99059351e-03  2.90891423e-03  2.21368289e-03  1.43467570e-03\n",
      "  1.35251520e-03  1.12152269e-03  1.04612597e-03  5.63723245e-04\n",
      "  8.84769667e-04  8.01563004e-04  7.77179467e-04  2.42055405e-04\n",
      "  8.08846052e-05  8.04941641e-05  8.04607443e-05 -3.68949563e-19]\n"
     ]
    }
   ],
   "source": [
    "# Step 2- Get eigen values and eigen vector\n",
    "eig_vals, eig_vecs = np.linalg.eig(cov_matrix)\n",
    "print('Eigen Vectors \\n%s', eig_vecs)\n",
    "print('\\n Eigen Values \\n%s', eig_vals)"
   ]
  },
  {
   "cell_type": "code",
   "execution_count": 72,
   "id": "d1b00777",
   "metadata": {},
   "outputs": [
    {
     "name": "stdout",
     "output_type": "stream",
     "text": [
      "Cumulative Variance Explained [ 33.3305313   45.85595456  54.78888489  63.40066335  69.51815529\n",
      "  72.28345305  74.66158334  76.96545391  78.71270533  80.35110397\n",
      "  81.87990151  83.35160392  84.77877083  86.11971557  87.29530439\n",
      "  88.40778218  89.41454888  90.22697451  90.98880581  91.63788719\n",
      "  92.24050485  92.81135358  93.33395844  93.82661543  94.27307782\n",
      "  94.68743254  95.06407496  95.42524045  95.75836133  96.07917921\n",
      "  96.3688092   96.64799347  96.91539298  97.16186893  97.39824797\n",
      "  97.62211011  97.82829929  98.02561915  98.21323346  98.39204878\n",
      "  98.55504627  98.71585492  98.86744791  99.01649254  99.14551993\n",
      "  99.25646637  99.35831501  99.45088975  99.53421935  99.60978693\n",
      "  99.68469753  99.74198206  99.7833072   99.81190144  99.83862397\n",
      "  99.86444659  99.88889808  99.91268175  99.93078111  99.94251121\n",
      "  99.95356955  99.96273927  99.97129253  99.97852653  99.98508021\n",
      "  99.99143454  99.99604361  99.99802269  99.99868401  99.99934214\n",
      " 100.         100.        ]\n"
     ]
    }
   ],
   "source": [
    "tot = sum(eig_vals)\n",
    "var_exp = [( i /tot ) * 100 for i in sorted(eig_vals, reverse=True)]\n",
    "cum_var_exp = np.cumsum(var_exp)\n",
    "print(\"Cumulative Variance Explained\", cum_var_exp)"
   ]
  },
  {
   "cell_type": "code",
   "execution_count": 73,
   "id": "270b1e7b",
   "metadata": {},
   "outputs": [
    {
     "data": {
      "text/plain": [
       "[<matplotlib.lines.Line2D at 0x1cd00095b50>]"
      ]
     },
     "execution_count": 73,
     "metadata": {},
     "output_type": "execute_result"
    },
    {
     "data": {
      "image/png": "[encoded data removed]",
      "text/plain": [
       "<Figure size 1080x576 with 1 Axes>"
      ]
     },
     "metadata": {},
     "output_type": "display_data"
    }
   ],
   "source": [
    "plt.plot(var_exp)"
   ]
  },
  {
   "cell_type": "code",
   "execution_count": 74,
   "id": "b2bf91ea",
   "metadata": {},
   "outputs": [
    {
     "data": {
      "image/png": "[encoded data removed]",
      "text/plain": [
       "<Figure size 720x360 with 1 Axes>"
      ]
     },
     "metadata": {},
     "output_type": "display_data"
    }
   ],
   "source": [
    "# Ploting \n",
    "plt.figure(figsize=(10 , 5))\n",
    "plt.bar(range(1, eig_vals.size + 1), var_exp, alpha = 0.5, align = 'center', label = 'Individual explained variance')\n",
    "plt.step(range(1, eig_vals.size + 1), cum_var_exp, where='mid', label = 'Cumulative explained variance')\n",
    "plt.ylabel('Explained Variance Ratio')\n",
    "plt.xlabel('Principal Components')\n",
    "plt.legend(loc = 'best')\n",
    "plt.tight_layout()\n",
    "plt.show()"
   ]
  },
  {
   "cell_type": "code",
   "execution_count": null,
   "id": "4d2a5998",
   "metadata": {},
   "outputs": [],
   "source": []
  }
 ],
 "metadata": {
  "kernelspec": {
   "display_name": "Python 3",
   "language": "python",
   "name": "python3"
  },
  "language_info": {
   "codemirror_mode": {
    "name": "ipython",
    "version": 3
   },
   "file_extension": ".py",
   "mimetype": "text/x-python",
   "name": "python",
   "nbconvert_exporter": "python",
   "pygments_lexer": "ipython3",
   "version": "3.8.8"
  }
 },
 "nbformat": 4,
 "nbformat_minor": 5
}
